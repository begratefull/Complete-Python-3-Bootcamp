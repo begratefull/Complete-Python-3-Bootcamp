{
 "cells": [
  {
   "cell_type": "code",
   "execution_count": null,
   "metadata": {},
   "outputs": [],
   "source": [
    "# GAME BOARD THAT WILL UPDATE WITH USER IMPUT\n",
    "\n",
    "from IPython.display import clear_output\n",
    "\n",
    "turn_counter = 0\n",
    "\n",
    "rowi = ['    ',' a ',' b ',' c ']\n",
    "row1 = ['1   ','___','___','___']\n",
    "row2 = ['2   ','___','___','___']\n",
    "row3 = ['3   ','___','___','___']\n",
    "    \n",
    "def gameboard(rowi,row1,row2,row3):\n",
    "    \n",
    "    print()\n",
    "    print(*rowi)\n",
    "    print()\n",
    "    print(*row1)\n",
    "    print(*row2)\n",
    "    print(*row3)\n",
    "    print()"
   ]
  },
  {
   "cell_type": "code",
   "execution_count": null,
   "metadata": {},
   "outputs": [],
   "source": [
    "# ACCEPT PLAYER INPUT\n",
    "\n",
    "def player_input():\n",
    "\n",
    "    player_x_row = int(input('Select a row: '))\n",
    "\n",
    "    player_x_colm = input('Select a column: ')\n",
    "\n",
    "    if player_x_colm == 'a':\n",
    "        player_x_colm = 1\n",
    "    elif player_x_colm == 'b':\n",
    "        player_x_colm = 2\n",
    "    else:\n",
    "        player_x_colm = 3\n",
    "\n",
    "    row_all = [rowi, row1, row2, row3]\n",
    "\n",
    "    if turn_counter%2 == 0:\n",
    "        row_all[player_x_row][player_x_colm] = ' X '\n",
    "    else:\n",
    "        row_all[player_x_row][player_x_colm] = ' O '\n",
    "\n",
    "    clear_output()\n",
    "\n",
    "    if turn_counter%2 != 0:\n",
    "        print(\"  PLAYER X'S TURN\")\n",
    "    else:\n",
    "        print(\"  PLAYER O'S TURN\")\n",
    "        \n",
    "    gameboard(rowi, row1, row2, row3)\n",
    "\n"
   ]
  },
  {
   "cell_type": "code",
   "execution_count": null,
   "metadata": {},
   "outputs": [],
   "source": [
    "def check_winner():\n",
    "    \n",
    "    if turn_counter%2 == 0:\n",
    "        who_won = \"X's\"\n",
    "    else:\n",
    "        who_won = \"O's\"\n",
    "\n",
    "    if row1[1] == row2[1] and row1[1] == row3[1]:\n",
    "        \n",
    "        print(f\"!!!PLAYER {who_won} WINS!!!\")\n",
    "        print(f\"...and it only took them {turn_counter/2} moves to do it\")\n"
   ]
  },
  {
   "cell_type": "code",
   "execution_count": null,
   "metadata": {},
   "outputs": [],
   "source": [
    "# RUN THIS CELL TO TAKE A TURN\n",
    "\n",
    "if turn_counter%2 == 0:\n",
    "    print(\"  PLAYER X'S TURN\")\n",
    "else:\n",
    "    print(\"  PLAYER O'S TURN\")\n",
    "\n",
    "gameboard(rowi,row1,row2,row3)\n",
    "\n",
    "player_input()\n",
    "check_winner()\n",
    "\n",
    "turn_counter = turn_counter + 1"
   ]
  },
  {
   "cell_type": "code",
   "execution_count": null,
   "metadata": {},
   "outputs": [],
   "source": []
  }
 ],
 "metadata": {
  "kernelspec": {
   "display_name": "Python 3",
   "language": "python",
   "name": "python3"
  },
  "language_info": {
   "codemirror_mode": {
    "name": "ipython",
    "version": 3
   },
   "file_extension": ".py",
   "mimetype": "text/x-python",
   "name": "python",
   "nbconvert_exporter": "python",
   "pygments_lexer": "ipython3",
   "version": "3.11.1"
  },
  "orig_nbformat": 4,
  "vscode": {
   "interpreter": {
    "hash": "901f2dd65e49179087d23d4154d4439ab7d4a33b7e46de4d97fa5c9d70d41f6c"
   }
  }
 },
 "nbformat": 4,
 "nbformat_minor": 2
}
