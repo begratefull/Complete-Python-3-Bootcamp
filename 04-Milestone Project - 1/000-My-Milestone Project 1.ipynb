{
 "cells": [
  {
   "cell_type": "code",
   "execution_count": 6,
   "metadata": {},
   "outputs": [],
   "source": [
    "# GAME BOARD THAT WILL UPDATE WITH USER IMPUT\n",
    "\n",
    "from IPython.display import clear_output\n",
    "    \n",
    "turn_counter = 0\n",
    "\n",
    "rowi = ['    ',' a ',' b ',' c ']\n",
    "row1 = ['1   ','___','___','___']\n",
    "row2 = ['2   ','___','___','___']\n",
    "row3 = ['3   ','___','___','___']\n",
    "\n",
    "row_all = [rowi, row1, row2, row3]\n",
    "\n",
    "\n",
    "def gameboard(rowi,row1,row2,row3):\n",
    "\n",
    "    clear_output()\n",
    "\n",
    "    if turn_counter%2 == 0:\n",
    "        print(\"  PLAYER X'S TURN\")\n",
    "    else:\n",
    "        print(\"  PLAYER O'S TURN\")\n",
    "\n",
    "    \n",
    "    print()\n",
    "    print(*rowi)\n",
    "    print()\n",
    "    print(*row1)\n",
    "    print(*row2)\n",
    "    print(*row3)\n",
    "    print()"
   ]
  },
  {
   "cell_type": "code",
   "execution_count": 7,
   "metadata": {},
   "outputs": [],
   "source": [
    "# ACCEPT PLAYER INPUT\n",
    "\n",
    "def player_input():\n",
    "\n",
    "    player_x_row = int(input('Select a row: '))\n",
    "\n",
    "    player_x_colm = input('Select a column: ')\n",
    "\n",
    "    if player_x_colm == 'a':\n",
    "        player_x_colm = 1\n",
    "    elif player_x_colm == 'b':\n",
    "        player_x_colm = 2\n",
    "    else:\n",
    "        player_x_colm = 3\n",
    "\n",
    "    if turn_counter%2 == 0:\n",
    "        row_all[player_x_row][player_x_colm] = ' X '\n",
    "    else:\n",
    "        row_all[player_x_row][player_x_colm] = ' O '\n",
    "        \n",
    "    gameboard(rowi, row1, row2, row3)"
   ]
  },
  {
   "cell_type": "code",
   "execution_count": 8,
   "metadata": {},
   "outputs": [],
   "source": [
    "def check_winner():\n",
    "    \n",
    "    winner = False\n",
    "\n",
    "    win_top_row = [row1[1],row1[2],row1[3]]\n",
    "    win_mid_row = [row2[1],row2[2],row2[3]]\n",
    "    win_bot_row = [row3[1],row3[2],row3[3]]\n",
    "    win_left_colm = [row1[1],row2[1],row3[1]]\n",
    "    win_mid_colm = [row1[2],row2[2],row3[2]]\n",
    "    win_right_colm = [row1[3],row2[3],row3[3]]\n",
    "    win_forward_slash = [row3[1],row2[2],row1[3]]\n",
    "    win_back_slash = [row1[1],row2[2],row3[3]]\n",
    "\n",
    "    win_list = [win_top_row, win_mid_row, win_bot_row, win_left_colm, win_mid_colm, win_right_colm, win_forward_slash, win_back_slash]\n",
    "\n",
    "    for lists in win_list:\n",
    "        x_counter = 0\n",
    "        o_counter = 0\n",
    "        for item in lists:\n",
    "            if item == ' X ':\n",
    "                x_counter += 1\n",
    "            if item == ' O ':\n",
    "                o_counter += 1\n",
    "            if x_counter == 3 or o_counter == 3:\n",
    "                winner = True\n",
    "                \n",
    "    if winner == True:\n",
    "\n",
    "        if turn_counter%2 == 0:\n",
    "            who_won = \"X's\"\n",
    "        else:\n",
    "            who_won = \"O's\"\n",
    "\n",
    "        print(f\"!!!PLAYER {who_won} WINS!!!\")\n",
    "        print(f\"...and it only took them {turn_counter/2} moves to do it\")\n",
    "\n",
    "    else:\n",
    "        pass"
   ]
  },
  {
   "cell_type": "code",
   "execution_count": 13,
   "metadata": {},
   "outputs": [
    {
     "name": "stdout",
     "output_type": "stream",
     "text": [
      "  PLAYER X'S TURN\n",
      "\n",
      "      a   b   c \n",
      "\n",
      "1     X   O   O \n",
      "2    ___  X  ___\n",
      "3    ___ ___  X \n",
      "\n",
      "!!!PLAYER X's WINS!!!\n",
      "...and it only took them 2.0 moves to do it\n"
     ]
    }
   ],
   "source": [
    "# RUN THIS CELL TO TAKE A TURN\n",
    "\n",
    "gameboard(rowi,row1,row2,row3)\n",
    "\n",
    "player_input()\n",
    "\n",
    "check_winner()\n",
    "\n",
    "turn_counter = turn_counter + 1"
   ]
  },
  {
   "cell_type": "code",
   "execution_count": null,
   "metadata": {},
   "outputs": [],
   "source": []
  },
  {
   "cell_type": "code",
   "execution_count": null,
   "metadata": {},
   "outputs": [],
   "source": []
  }
 ],
 "metadata": {
  "kernelspec": {
   "display_name": "Python 3",
   "language": "python",
   "name": "python3"
  },
  "language_info": {
   "codemirror_mode": {
    "name": "ipython",
    "version": 3
   },
   "file_extension": ".py",
   "mimetype": "text/x-python",
   "name": "python",
   "nbconvert_exporter": "python",
   "pygments_lexer": "ipython3",
   "version": "3.11.1"
  },
  "orig_nbformat": 4,
  "vscode": {
   "interpreter": {
    "hash": "901f2dd65e49179087d23d4154d4439ab7d4a33b7e46de4d97fa5c9d70d41f6c"
   }
  }
 },
 "nbformat": 4,
 "nbformat_minor": 2
}
