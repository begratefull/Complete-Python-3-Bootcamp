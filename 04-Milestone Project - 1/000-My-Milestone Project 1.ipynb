{
 "cells": [
  {
   "attachments": {},
   "cell_type": "markdown",
   "metadata": {},
   "source": [
    "# **TIC-TAC-TOE**\n",
    "*Version 1.0*\n",
    "\n",
    "My First Python Program!"
   ]
  },
  {
   "cell_type": "code",
   "execution_count": 2,
   "metadata": {},
   "outputs": [],
   "source": [
    "# INITIAL GAME BOARD THAT WILL UPDATE WITH USER IMPUT\n",
    "# RUN THIS CELL TO RESET THE BOARD\n",
    "\n",
    "from IPython.display import clear_output\n",
    "\n",
    "turn_counter = 0\n",
    "winner = False\n",
    "\n",
    "rowi = ['    ',' a ',' b ',' c ']\n",
    "row1 = ['1   ','___','___','___']\n",
    "row2 = ['2   ','___','___','___']\n",
    "row3 = ['3   ','___','___','___']\n",
    "\n",
    "row_all = [rowi, row1, row2, row3]\n",
    "\n",
    "def gameboard(rowi,row1,row2,row3):\n",
    "\n",
    "    clear_output(wait=True)\n",
    "\n",
    "    if turn_counter%2 != 0:\n",
    "        print(\"  PLAYER X'S TURN\")\n",
    "    else:\n",
    "        print(\"  PLAYER O'S TURN\")\n",
    "\n",
    "    print()\n",
    "    print(*rowi)\n",
    "    print()\n",
    "    print(*row1)\n",
    "    print(*row2)\n",
    "    print(*row3)\n",
    "    print()"
   ]
  },
  {
   "cell_type": "code",
   "execution_count": 3,
   "metadata": {},
   "outputs": [],
   "source": [
    "def player_input():\n",
    "    # TAKE IN PLAYER INPUT AND UPDATE GAME BOARD\n",
    "\n",
    "    player_x_row = int(input('Select a row: '))\n",
    "\n",
    "    player_x_colm = input('Select a column: ')\n",
    "\n",
    "    if player_x_colm == 'a':\n",
    "        player_x_colm = 1\n",
    "    elif player_x_colm == 'b':\n",
    "        player_x_colm = 2\n",
    "    else:\n",
    "        player_x_colm = 3\n",
    "\n",
    "    if turn_counter%2 == 0:\n",
    "        row_all[player_x_row][player_x_colm] = ' X '\n",
    "    else:\n",
    "        row_all[player_x_row][player_x_colm] = ' O '\n",
    "\n",
    "    gameboard(rowi,row1,row2,row3)"
   ]
  },
  {
   "cell_type": "code",
   "execution_count": 12,
   "metadata": {},
   "outputs": [],
   "source": [
    "def check_winner():\n",
    "    \n",
    "    winner = False\n",
    "\n",
    "    win_top_row = [row1[1],row1[2],row1[3]]\n",
    "    win_mid_row = [row2[1],row2[2],row2[3]]\n",
    "    win_bot_row = [row3[1],row3[2],row3[3]]\n",
    "    win_left_colm = [row1[1],row2[1],row3[1]]\n",
    "    win_mid_colm = [row1[2],row2[2],row3[2]]\n",
    "    win_right_colm = [row1[3],row2[3],row3[3]]\n",
    "    win_forward_slash = [row3[1],row2[2],row1[3]]\n",
    "    win_back_slash = [row1[1],row2[2],row3[3]]\n",
    "\n",
    "    win_list = [win_top_row, win_mid_row, win_bot_row, win_left_colm, win_mid_colm, win_right_colm, win_forward_slash, win_back_slash]\n",
    "\n",
    "    for lists in win_list:\n",
    "        x_counter = 0\n",
    "        o_counter = 0\n",
    "        for item in lists:\n",
    "            if item == ' X ':\n",
    "                x_counter += 1\n",
    "            if item == ' O ':\n",
    "                o_counter += 1\n",
    "            if x_counter == 3 or o_counter == 3:\n",
    "                winner = True\n",
    "                \n",
    "    if winner == True:\n",
    "\n",
    "        if turn_counter%2 == 0:\n",
    "            who_won = \"X's\"\n",
    "        else:\n",
    "            who_won = \"O's\"\n",
    "        \n",
    "        print(f\"!!!PLAYER {who_won} WINS!!!\")        \n",
    "\n",
    "    else:\n",
    "        pass"
   ]
  },
  {
   "attachments": {},
   "cell_type": "markdown",
   "metadata": {},
   "source": [
    "## *PLAY HERE!!!*"
   ]
  },
  {
   "cell_type": "code",
   "execution_count": 11,
   "metadata": {},
   "outputs": [
    {
     "name": "stdout",
     "output_type": "stream",
     "text": [
      "  PLAYER O'S TURN\n",
      "\n",
      "      a   b   c \n",
      "\n",
      "1     X  ___ ___\n",
      "2     X   O  ___\n",
      "3     X  ___  O \n",
      "\n",
      "!!!PLAYER X's WINS!!!\n",
      "...and it only took them 6 moves to do it\n"
     ]
    }
   ],
   "source": [
    "### RUN THIS CELL TO TAKE A TURN ###\n",
    "\n",
    "gameboard(rowi,row1,row2,row3)\n",
    "turn_counter += 1\n",
    "player_input()\n",
    "\n",
    "check_winner()"
   ]
  },
  {
   "cell_type": "code",
   "execution_count": null,
   "metadata": {},
   "outputs": [],
   "source": []
  }
 ],
 "metadata": {
  "kernelspec": {
   "display_name": "Python 3",
   "language": "python",
   "name": "python3"
  },
  "language_info": {
   "codemirror_mode": {
    "name": "ipython",
    "version": 3
   },
   "file_extension": ".py",
   "mimetype": "text/x-python",
   "name": "python",
   "nbconvert_exporter": "python",
   "pygments_lexer": "ipython3",
   "version": "3.11.1"
  },
  "orig_nbformat": 4,
  "vscode": {
   "interpreter": {
    "hash": "901f2dd65e49179087d23d4154d4439ab7d4a33b7e46de4d97fa5c9d70d41f6c"
   }
  }
 },
 "nbformat": 4,
 "nbformat_minor": 2
}
